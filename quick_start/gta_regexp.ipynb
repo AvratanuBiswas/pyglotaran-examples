{
 "cells": [
  {
   "cell_type": "code",
   "execution_count": 3,
   "metadata": {},
   "outputs": [],
   "source": [
    "import re\n",
    "from typing import Dict\n",
    "\n",
    "import yaml\n",
    "\n",
    "import re"
   ]
  },
  {
   "cell_type": "code",
   "execution_count": 19,
   "metadata": {},
   "outputs": [],
   "source": [
    "def _yml_tuple_constructor(loader, node):\n",
    "    # this little parse is really just for what I needed, feel free to change it!\n",
    "    def parse_tup_el(el):\n",
    "        # try to convert into int or float else keep the string\n",
    "        if el.isdigit():\n",
    "            return int(el)\n",
    "        try:\n",
    "            return float(el)\n",
    "        except ValueError:\n",
    "            return el\n",
    "\n",
    "    value = loader.construct_scalar(node)\n",
    "    # remove the ( ) from the string\n",
    "    tup_elements = [ele.strip() for ele in value[1:-1].split(\",\")]\n",
    "    # remove the last element if the tuple was written as (x,b,)\n",
    "    if tup_elements[-1] == \"\":\n",
    "        tup_elements.pop(-1)\n",
    "    tup = tuple(map(parse_tup_el, tup_elements))\n",
    "    return tup\n"
   ]
  },
  {
   "cell_type": "code",
   "execution_count": 4,
   "metadata": {},
   "outputs": [],
   "source": [
    "test_string = \"\"\"\n",
    "type: kinetic-spectrum\n",
    "\n",
    "k_matrix:\n",
    "  km1:\n",
    "    matrix:\n",
    "      (s1, s1): '1'\n",
    "      (s2, s1): '2'\n",
    "\n",
    "spectral_constraints:\n",
    "  - type: zero\n",
    "    compartment: s1\n",
    "    interval:\n",
    "      - (1, 100)\n",
    "      - (2, 200)\n",
    "  - [zero, s1, [(1, 100), (2, 200)]]\n",
    "\n",
    "equal_area_penalties:\n",
    "  - type: equal_area\n",
    "    source: s3\n",
    "    source_intervals: (670, 810)]\n",
    "    target: s2\n",
    "    target_intervals: (670, 810)]\n",
    "    parameter: 55\n",
    "    weight: 0.0016\n",
    "\n",
    "spectral_relations:\n",
    "  - compartment: s1\n",
    "    target: s2\n",
    "    parameter: 8\n",
    "    interval: [(1,100), (2,200)]\n",
    "\n",
    "weights:\n",
    "  - datasets: [d1, d2]\n",
    "    global_interval: (100, 102)\n",
    "    model_interval: (301, 502)\n",
    "    value: 42\n",
    "\"\"\""
   ]
  },
  {
   "cell_type": "code",
   "execution_count": 24,
   "metadata": {},
   "outputs": [
    {
     "output_type": "stream",
     "name": "stdout",
     "text": [
      "{'type': 'kinetic-spectrum', 'k_matrix': {'km1': {'matrix': {('s1', 's1'): '1', ('s2', 's1'): '2'}}}, 'spectral_constraints': [{'type': 'zero', 'compartment': 's1', 'interval': [(1, 100), (2, 200)]}, ['zero', 's1', ['(1', '100)', '(2', '200)']]], 'equal_area_penalties': [{'type': 'equal_area', 'source': 's3', 'source_intervals': (670, '810)'), 'target': 's2', 'target_intervals': (670, '810)'), 'parameter': 55, 'weight': 0.0016}], 'spectral_relations': [{'compartment': 's1', 'target': 's2', 'parameter': 8, 'interval': ['(1', '100)', '(2', '200)']}], 'weights': [{'datasets': ['d1', 'd2'], 'global_interval': (100, 102), 'model_interval': (301, 502), 'value': 42}]}\n"
     ]
    }
   ],
   "source": [
    "# !tuple is my own tag name, I think you could choose anything you want\n",
    "yaml.FullLoader.add_constructor(\"!tuple\", _yml_tuple_constructor)\n",
    "# this is to spot the strings written as tuple in the yaml\n",
    "yaml.FullLoader.add_implicit_resolver(\"!tuple\", re.compile(r\"\\(.+(.*?,.*?).+\\)\"), '[]')\n",
    "\n",
    "spec = yaml.load(test_string, Loader=yaml.FullLoader)\n",
    "print(spec)"
   ]
  },
  {
   "cell_type": "code",
   "execution_count": 6,
   "metadata": {},
   "outputs": [
    {
     "output_type": "stream",
     "name": "stdout",
     "text": [
      "{'type': 'kinetic-spectrum', 'k_matrix': {'km1': {'matrix': {'(s1, s1)': '1', '(s2, s1)': '2'}}}, 'spectral_constraints': [{'type': 'zero', 'compartment': 's1', 'interval': ['(1, 100)', '(2, 200)']}, ['zero', 's1', ['(1', '100)', '(2', '200)']]], 'equal_area_penalties': [{'type': 'equal_area', 'source': 's3', 'source_intervals': '(670, 810)]', 'target': 's2', 'target_intervals': '(670, 810)]', 'parameter': 55, 'weight': 0.0016}], 'spectral_relations': [{'compartment': 's1', 'target': 's2', 'parameter': 8, 'interval': ['(1', '100)', '(2', '200)']}], 'weights': [{'datasets': ['d1', 'd2'], 'global_interval': '(100, 102)', 'model_interval': '(301, 502)', 'value': 42}]}\n"
     ]
    }
   ],
   "source": [
    "spec = yaml.load(test_string, Loader=yaml.SafeLoader)\n",
    "print(spec)"
   ]
  },
  {
   "cell_type": "code",
   "execution_count": 18,
   "metadata": {},
   "outputs": [
    {
     "output_type": "execute_result",
     "data": {
      "text/plain": [
       "['s1, s1',\n",
       " 's2, s1',\n",
       " '1, 100',\n",
       " '2, 200',\n",
       " '1, 100',\n",
       " '2, 200',\n",
       " '670, 810',\n",
       " '670, 810',\n",
       " '1,100',\n",
       " '2,200',\n",
       " '100, 102',\n",
       " '301, 502']"
      ]
     },
     "metadata": {},
     "execution_count": 18
    }
   ],
   "source": [
    "reg_exp = r\"\\((.*?,.*?)\\)\"\n",
    "re.compile(reg_exp)\n",
    "re.findall(reg_exp, test_string)"
   ]
  },
  {
   "cell_type": "code",
   "execution_count": 36,
   "metadata": {},
   "outputs": [
    {
     "output_type": "execute_result",
     "data": {
      "text/plain": [
       "re.compile(r'(\\$[\\w\\d\\.]+)', re.UNICODE)"
      ]
     },
     "metadata": {},
     "execution_count": 36
    }
   ],
   "source": [
    "re.compile(reg_exp)"
   ]
  },
  {
   "cell_type": "code",
   "execution_count": 37,
   "metadata": {},
   "outputs": [
    {
     "output_type": "execute_result",
     "data": {
      "text/plain": [
       "['$1']"
      ]
     },
     "metadata": {},
     "execution_count": 37
    }
   ],
   "source": [
    "re.findall(reg_exp, test_strings[0])"
   ]
  },
  {
   "cell_type": "code",
   "execution_count": 38,
   "metadata": {},
   "outputs": [
    {
     "output_type": "stream",
     "name": "stdout",
     "text": [
      "['$1']\n['$kinetic.1', '$kinetic.2', '$kinetic.3']\n[]\n['$kinetic.1', '$kinetic.2']\n['$kinetic.4']\n['$kinetic.5']\n['$group.sub_group.param1', '$kinetic6']\n['$foo.7.bar', '$kinetic6']\n['$1']\n['$1', '$2']\n['$1', '$5']\n"
     ]
    }
   ],
   "source": [
    "for s in test_strings:\n",
    "    print(re.findall(reg_exp, s))"
   ]
  },
  {
   "cell_type": "code",
   "execution_count": 39,
   "metadata": {},
   "outputs": [
    {
     "output_type": "execute_result",
     "data": {
      "text/plain": [
       "['$1']"
      ]
     },
     "metadata": {},
     "execution_count": 39
    }
   ],
   "source": [
    "for s in test_strings:\n",
    "    print(re.findall(reg_exp, s))"
   ]
  },
  {
   "cell_type": "code",
   "execution_count": 8,
   "metadata": {},
   "outputs": [],
   "source": [
    "valid_names = [\n",
    "    \"1\",\n",
    "    \"valid1\",\n",
    "    \"_valid2\",\n",
    "    \"extra_valid3\",\n",
    "]\n",
    "\n",
    "invalid_names = [\n",
    "    \"testé\",\n",
    "    \"kinetic.1\",\n",
    "    \"kinetic_red.3\",\n",
    "    \"foo.7.bar\",\n",
    "    \"_ilikeunderscoresatbegeninngin.justbecause\",\n",
    "    \"42istheanswer.42\",\n",
    "    \"kinetic::red\",\n",
    "    \"kinetic_blue+kinetic_red\",\n",
    "    \"makesthissense=trueandfalse\",\n",
    "    \"what/about\\slashes\",\n",
    "    \"$invalid\" ,\n",
    "]"
   ]
  },
  {
   "cell_type": "code",
   "execution_count": 136,
   "metadata": {},
   "outputs": [],
   "source": [
    "reg_exp_valid = r\".*\\W+\"\n",
    "validator = re.compile(reg_exp_valid, flags=re.ASCII)"
   ]
  },
  {
   "cell_type": "code",
   "execution_count": 137,
   "metadata": {},
   "outputs": [
    {
     "output_type": "stream",
     "name": "stdout",
     "text": [
      "None 1\nNone valid1\nNone _valid2\nNone extra_valid3\n"
     ]
    }
   ],
   "source": [
    "for s in valid_names:\n",
    "    print(validator.match(s),s)"
   ]
  },
  {
   "cell_type": "code",
   "execution_count": 138,
   "metadata": {},
   "outputs": [
    {
     "output_type": "stream",
     "name": "stdout",
     "text": [
      "<re.Match object; span=(0, 5), match='testé'> testé\n<re.Match object; span=(0, 8), match='kinetic.'> kinetic.1\n<re.Match object; span=(0, 12), match='kinetic_red.'> kinetic_red.3\n<re.Match object; span=(0, 6), match='foo.7.'> foo.7.bar\n<re.Match object; span=(0, 31), match='_ilikeunderscoresatbegeninngin.'> _ilikeunderscoresatbegeninngin.justbecause\n<re.Match object; span=(0, 14), match='42istheanswer.'> 42istheanswer.42\n<re.Match object; span=(0, 9), match='kinetic::'> kinetic::red\n<re.Match object; span=(0, 13), match='kinetic_blue+'> kinetic_blue+kinetic_red\n<re.Match object; span=(0, 15), match='makesthissense='> makesthissense=trueandfalse\n<re.Match object; span=(0, 11), match='what/about\\\\'> what/about\\slashes\n<re.Match object; span=(0, 1), match='$'> $invalid\n"
     ]
    }
   ],
   "source": [
    "for s in invalid_names:\n",
    "    print(validator.match(s),s)"
   ]
  },
  {
   "cell_type": "code",
   "execution_count": 66,
   "metadata": {},
   "outputs": [
    {
     "output_type": "stream",
     "name": "stdout",
     "text": [
      "[] 1\n[] valid1\n[] _valid2\n[] extra_valid3\n----\n['é'] testé\n['.'] kinetic.1\n['.'] kinetic_red.3\n['.', '.'] foo.7.bar\n['.'] _ilikeunderscoresatbegeninngin.justbecause\n['.'] 42istheanswer.42\n['::'] kinetic::red\n['+'] kinetic_blue+kinetic_red\n['='] makesthissense=trueandfalse\n['/', '\\\\'] what/about\\slashes\n['$'] $invalid\n"
     ]
    }
   ],
   "source": [
    "for s in valid_names:\n",
    "    print(re.findall(r\"\\W+\",s, flags=re.ASCII),s)\n",
    "print(\"----\")\n",
    "for s in invalid_names:\n",
    "    print(re.findall(r\"\\W+\",s, flags=re.ASCII),s)"
   ]
  },
  {
   "cell_type": "code",
   "execution_count": null,
   "metadata": {},
   "outputs": [],
   "source": []
  }
 ],
 "metadata": {
  "kernelspec": {
   "display_name": "Python 3",
   "language": "python",
   "name": "python3"
  },
  "language_info": {
   "codemirror_mode": {
    "name": "ipython",
    "version": 3
   },
   "file_extension": ".py",
   "mimetype": "text/x-python",
   "name": "python",
   "nbconvert_exporter": "python",
   "pygments_lexer": "ipython3",
   "version": "3.8.5-final"
  }
 },
 "nbformat": 4,
 "nbformat_minor": 4
}