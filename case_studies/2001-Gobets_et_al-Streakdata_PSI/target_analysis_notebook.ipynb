{
 "cells": [
  {
   "cell_type": "code",
   "execution_count": null,
   "metadata": {},
   "outputs": [],
   "source": [
    "from pathlib import Path\n",
    "from timeit import default_timer as timer\n",
    "\n",
    "import matplotlib.pyplot as plt\n",
    "\n",
    "import glotaran\n",
    "from pyglotaran_examples.plotting.plot_overview import plot_overview\n",
    "from pyglotaran_examples.plotting.style import PlotStyle\n",
    "\n",
    "GLOBAL_MODEL = 'models/model.yaml'\n",
    "GLOBAL_PARAMS = 'models/parameters.yaml'\n",
    "TARGET_MODEL = 'models/model-target.yaml'\n",
    "TARGET_PARAMS = 'models/parameters-target.yaml'\n"
   ]
  },
  {
   "cell_type": "code",
   "execution_count": null,
   "metadata": {
    "tags": []
   },
   "outputs": [],
   "source": [
    "script_dir = %pwd\n",
    "script_dir = Path(script_dir)\n",
    "print(f'Script folder: {script_dir}')\n"
   ]
  },
  {
   "cell_type": "code",
   "execution_count": null,
   "metadata": {
    "tags": []
   },
   "outputs": [],
   "source": [
    "data_path = script_dir.joinpath('data/data.ascii')\n",
    "model_path = script_dir.joinpath(TARGET_MODEL)  # or GLOBAL_MODEL\n",
    "parameter_path = script_dir.joinpath(TARGET_PARAMS)  # or TARGET_PARAMS\n",
    "\n",
    "result_name = str(model_path.stem).replace('model', 'result')\n",
    "result_path = script_dir.joinpath('results').joinpath(result_name)\n",
    "print(f'Writing results to: {result_path}')\n"
   ]
  },
  {
   "cell_type": "code",
   "execution_count": null,
   "metadata": {},
   "outputs": [],
   "source": [
    "dataset = glotaran.io.read_data_file(data_path)\n",
    "# Tip: print the xarray object to explore its content\n",
    "# print(dataset)\n"
   ]
  },
  {
   "cell_type": "code",
   "execution_count": null,
   "metadata": {
    "tags": []
   },
   "outputs": [],
   "source": [
    "model = glotaran.read_model_from_yml_file(model_path)\n",
    "parameter = glotaran.read_parameter_from_yml_file(parameter_path)\n",
    "print(model.validate(parameter=parameter))\n"
   ]
  },
  {
   "cell_type": "code",
   "execution_count": null,
   "metadata": {
    "tags": []
   },
   "outputs": [],
   "source": [
    "start = timer()\n",
    "# Warning: this may take a while (several seconds per iteration)\n",
    "result = model.optimize(\n",
    "    parameter, {'dataset1': dataset}, verbose=True, max_nfev=9)\n",
    "result.save(str(result_path))\n",
    "end = timer()\n",
    "\n",
    "print(f\"Total time: {end - start}\")\n"
   ]
  },
  {
   "cell_type": "code",
   "execution_count": null,
   "metadata": {
    "tags": []
   },
   "outputs": [],
   "source": [
    "print(result)\n"
   ]
  },
  {
   "cell_type": "code",
   "execution_count": null,
   "metadata": {},
   "outputs": [],
   "source": [
    "res = result.data['dataset1']\n",
    "# Tip: print the xarray object to explore its content\n",
    "# print(res)\n"
   ]
  },
  {
   "cell_type": "code",
   "execution_count": null,
   "metadata": {},
   "outputs": [],
   "source": [
    "plot_style = PlotStyle()\n",
    "plt.rc('axes', prop_cycle=plot_style.cycler)"
   ]
  },
  {
   "cell_type": "code",
   "execution_count": null,
   "metadata": {},
   "outputs": [],
   "source": [
    "fig = plot_overview(result_path.joinpath('dataset1.nc'))\n",
    "# note species concentration plot still needs work to match styles between the two locatable axis\n"
   ]
  },
  {
   "cell_type": "code",
   "execution_count": null,
   "metadata": {},
   "outputs": [],
   "source": [
    "fig.savefig(result_path.joinpath(f'plot_overview_{result_name}.pdf'), bbox_inches='tight')\n",
    "\n",
    "\n"
   ]
  }
 ],
 "metadata": {
  "file_extension": ".py",
  "kernelspec": {
   "display_name": "Python 3.6.11 64-bit ('py36gta_cdev': conda)",
   "language": "python",
   "name": "python_defaultSpec_1598352586293"
  },
  "language_info": {
   "codemirror_mode": {
    "name": "ipython",
    "version": 3
   },
   "file_extension": ".py",
   "mimetype": "text/x-python",
   "name": "python",
   "nbconvert_exporter": "python",
   "pygments_lexer": "ipython3",
   "version": "3.6.11-final"
  },
  "mimetype": "text/x-python",
  "name": "python",
  "npconvert_exporter": "python",
  "pygments_lexer": "ipython3",
  "version": 3
 },
 "nbformat": 4,
 "nbformat_minor": 4
}